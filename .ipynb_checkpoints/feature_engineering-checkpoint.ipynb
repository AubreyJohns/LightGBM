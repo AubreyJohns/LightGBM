{
 "cells": [
  {
   "cell_type": "markdown",
   "metadata": {},
   "source": [
    "# Feature Engineering\n",
    "[Kaggle's Feature Engineering](https://www.kaggle.com/learn/feature-engineering)"
   ]
  },
  {
   "cell_type": "markdown",
   "metadata": {},
   "source": [
    "## Baseline Model\n",
    "[Kaggle's Baseline Model](https://www.kaggle.com/matleonard/baseline-model)\n",
    "\n",
    "[Kaggle's Baseline Model: Exercise](https://www.kaggle.com/matleonard/baseline-model)"
   ]
  },
  {
   "cell_type": "markdown",
   "metadata": {},
   "source": [
    "## Categorical Encodings\n",
    "1. Label Encoding\n",
    "2. One Hot Encoding\n",
    "3. Count Encoding\n",
    "4. Target Encoding\n",
    "5. CatBoost Encoding\n",
    "6. Singular Value Decomposition\n",
    "\n",
    "[Kaggle's Categorical Encodings](https://www.kaggle.com/matleonard/categorical-encodings)\n",
    "\n",
    "[Kaggle's Categorical Encodings: Exercise](https://www.kaggle.com/aubreyjohn/exercise-categorical-encodings/edit)"
   ]
  },
  {
   "cell_type": "markdown",
   "metadata": {},
   "source": [
    "## Feature Generation\n",
    "Creating new features from the raw data is one of the best ways to improve your model.\n",
    "\n",
    "The features you create are different for every dataset, so it takes a bit of creativity and experimentation. \n",
    "\n",
    "You can have access to multiple tables with relevant data that you can use to create new features.\n",
    "\n",
    "You can make new columns by:\n",
    "\n",
    "- Combining categorical columns (the combined columns are called interactions).\n",
    "- Making calculations based on numerical columns.\n",
    " \n",
    "Use **.rolling()** to calculate number of items in a period e.g last 7 days. Takes in a series with timestamp as index and indices as values.\n",
    "\n",
    "If you want a window that always starts at the first row but expands as you get further in the data, you can use the **.expanding** methods for this.\n",
    "\n",
    "\n",
    "Calculate time since last item in the same category. A handy method for performing operations within groups is to use **.groupby**. then **.transform**. The **.transform**. method takes a function then passes a series or dataframe to that function for each group. This returns a dataframe with the same indices as the original dataframe. In our case, we'll perform a groupby on \"category\" and use transform to calculate the time differences for each category.\n",
    "\n",
    "def time_since_last_project(series):\n",
    "    # Return the time in hours\n",
    "    return series.diff().dt.total_seconds() / 3600.\n",
    "    \n",
    "df = ks[['category', 'launched']].sort_values('launched')\n",
    "\n",
    "timedeltas = df.groupby('category').transform(time_since_last_project)\n",
    "\n",
    "\n",
    "Transforming numerical values. Some models work better when the features are normally distributed. Common choices for this are the **square root** and **natural logarithm**.\n",
    "\n",
    "The **log transformation** won't help if your model is tree-based since tree-based models are scale invariant. However, this should help if you have a **linear model** or **neural network**.\n",
    "\n",
    "Other transformations include **squares** and other **powers**, **exponentials**, etc. These might help the model discriminate, like the **kernel trick for SVMs**. \n",
    "\n",
    "Again, it takes a bit of experimentation to see what works.\n",
    "\n",
    "[Kaggle's Feature Generation](https://www.kaggle.com/learn/feature-engineering)\n",
    "\n",
    "[Kaggle's Feature Generation: Exercise](https://www.kaggle.com/aubreyjohn/exercise-feature-generation/edit)\n",
    "\n",
    " One method is to create a bunch of new features and later choose the best ones with **feature selection algorithms**."
   ]
  },
  {
   "cell_type": "markdown",
   "metadata": {},
   "source": [
    "## Feature Selection\n",
    "[Kaggle's Baseline Model](https://www.kaggle.com/matleonard/baseline-model)\n",
    "\n",
    "[Kaggle's Baseline Model: Exercise](https://www.kaggle.com/matleonard/baseline-model)"
   ]
  }
 ],
 "metadata": {
  "kernelspec": {
   "display_name": "Python 3",
   "language": "python",
   "name": "python3"
  },
  "language_info": {
   "codemirror_mode": {
    "name": "ipython",
    "version": 3
   },
   "file_extension": ".py",
   "mimetype": "text/x-python",
   "name": "python",
   "nbconvert_exporter": "python",
   "pygments_lexer": "ipython3",
   "version": "3.7.6"
  }
 },
 "nbformat": 4,
 "nbformat_minor": 4
}
