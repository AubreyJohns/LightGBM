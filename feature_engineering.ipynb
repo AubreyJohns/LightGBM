{
 "cells": [
  {
   "cell_type": "markdown",
   "metadata": {},
   "source": [
    "# Feature Engineering\n",
    "[Kaggle's Feature Engineering](https://www.kaggle.com/learn/feature-engineering)"
   ]
  },
  {
   "cell_type": "markdown",
   "metadata": {},
   "source": [
    "## Baseline Model\n",
    "[Kaggle's Baseline Model](https://www.kaggle.com/matleonard/baseline-model)\n",
    "\n",
    "[Kaggle's Baseline Model: Exercise](https://www.kaggle.com/matleonard/baseline-model)"
   ]
  },
  {
   "cell_type": "markdown",
   "metadata": {},
   "source": [
    "## Categorical Encodings\n",
    "[Kaggle's Categorical Encodings](https://www.kaggle.com/matleonard/categorical-encodings)\n",
    "\n",
    "[Kaggle's Categorical Encodings: Exercise](https://www.kaggle.com/aubreyjohn/exercise-categorical-encodings/edit)"
   ]
  },
  {
   "cell_type": "markdown",
   "metadata": {},
   "source": [
    "## Feature Generation"
   ]
  },
  {
   "cell_type": "markdown",
   "metadata": {},
   "source": [
    "## Feature Selection\n",
    "[Kaggle's Baseline Model](https://www.kaggle.com/matleonard/baseline-model)\n",
    "\n",
    "[Kaggle's Baseline Model: Exercise](https://www.kaggle.com/matleonard/baseline-model)"
   ]
  }
 ],
 "metadata": {
  "kernelspec": {
   "display_name": "Python 3",
   "language": "python",
   "name": "python3"
  },
  "language_info": {
   "codemirror_mode": {
    "name": "ipython",
    "version": 3
   },
   "file_extension": ".py",
   "mimetype": "text/x-python",
   "name": "python",
   "nbconvert_exporter": "python",
   "pygments_lexer": "ipython3",
   "version": "3.7.6"
  }
 },
 "nbformat": 4,
 "nbformat_minor": 4
}
